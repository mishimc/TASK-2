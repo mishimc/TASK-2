{
  "cells": [
    {
      "cell_type": "markdown",
      "metadata": {
        "id": "JC5LGOuu4h3x"
      },
      "source": [
        "#Librerias"
      ]
    },
    {
      "cell_type": "code",
      "execution_count": null,
      "metadata": {
        "id": "aPLWRsNO3sJl"
      },
      "outputs": [],
      "source": [
        "from google.colab import drive\n",
        "import pandas as pd\n",
        "import matplotlib.pyplot as plt\n",
        "import seaborn as sns\n",
        "from sklearn.preprocessing import OneHotEncoder\n",
        "from sklearn.preprocessing import LabelEncoder"
      ]
    },
    {
      "cell_type": "code",
      "execution_count": null,
      "metadata": {
        "colab": {
          "base_uri": "https://localhost:8080/"
        },
        "id": "JU4pAyz6wiAw",
        "outputId": "549cf6f5-ae97-40d6-eec3-4fc8009fc806"
      },
      "outputs": [
        {
          "output_type": "stream",
          "name": "stdout",
          "text": [
            "Mounted at /content/drive\n"
          ]
        }
      ],
      "source": [
        "drive.mount('/content/drive')\n",
        "df = pd.concat(\n",
        "    pd.read_excel(\"/content/drive/MyDrive/Colab Notebooks/online_retail_II.xlsx\",\n",
        "                 sheet_name=['Year 2009-2010', 'Year 2010-2011']),\n",
        "    ignore_index=True\n",
        ")"
      ]
    },
    {
      "cell_type": "markdown",
      "metadata": {
        "id": "i_hRrp5S5K2D"
      },
      "source": [
        "#Limpieza"
      ]
    },
    {
      "cell_type": "code",
      "execution_count": null,
      "metadata": {
        "id": "bGEpwuWR7_GE"
      },
      "outputs": [],
      "source": [
        "def eliminar_duplicados_personalizados(df, columnas_clave=None, considerar_fecha=True, verbose=True):\n",
        "    \"\"\"\n",
        "    Identifica y elimina duplicados\n",
        "    \"\"\"\n",
        "    columnas_clave = ['Invoice', 'StockCode', 'Quantity','Price','InvoiceDate']\n",
        "    # Contar duplicados\n",
        "    duplicados = df.duplicated(subset=columnas_clave, keep='first').sum()\n",
        "\n",
        "    # Eliminar duplicados\n",
        "    df_limpio = df.drop_duplicates(subset=columnas_clave, keep='first')\n",
        "\n",
        "    # Mostrar información si verbose=True\n",
        "    if verbose:\n",
        "        print(\"\\n=== Análisis de duplicados ===\")\n",
        "        print(f\"Registros originales: {len(df)}\")\n",
        "        print(f\"Registros duplicados: {duplicados}\")\n",
        "        print(f\"Registros único: {len(df_limpio)}\")\n",
        "        print(f\"Porcentaje de duplicados: {duplicados/len(df)*100:.2f}%\")\n",
        "\n",
        "    return df_limpio, duplicados"
      ]
    },
    {
      "cell_type": "code",
      "execution_count": null,
      "metadata": {
        "colab": {
          "base_uri": "https://localhost:8080/"
        },
        "id": "AfX0szSw8hx4",
        "outputId": "570efccd-9daf-446c-dd21-abbd5632e489"
      },
      "outputs": [
        {
          "output_type": "stream",
          "name": "stdout",
          "text": [
            "\n",
            "=== Análisis de duplicados ===\n",
            "Registros originales: 1067371\n",
            "Registros duplicados: 34337\n",
            "Registros único: 1033034\n",
            "Porcentaje de duplicados: 3.22%\n"
          ]
        }
      ],
      "source": [
        "df_limpio, num_duplicados = eliminar_duplicados_personalizados(df)"
      ]
    },
    {
      "cell_type": "code",
      "execution_count": null,
      "metadata": {
        "id": "nGoxFtOz8vww"
      },
      "outputs": [],
      "source": [
        "def filtrar_irrelevantes(df):\n",
        "    \"\"\"\n",
        "    Elimina transacciones sin ID de cliente\n",
        "    Elimina pedidos cancelados (facturas que comienzan con 'C')\n",
        "    \"\"\"\n",
        "    df_filtrado = df.copy()\n",
        "    # 1. Eliminar registros sin Customer ID\n",
        "   # df_filtrado = df_filtrado.dropna(subset=['Customer ID'])\n",
        "\n",
        "    # 2. Eliminar cancelaciones (facturas que empiezan con 'C')\n",
        "    cancelaciones = df_filtrado[df_filtrado['Invoice'].astype(str).str.startswith('C')].index\n",
        "    df_filtrado = df_filtrado.drop(cancelaciones)\n",
        "\n",
        "    # 3. Eliminar precios negativos\n",
        "    precios_negativos = df_filtrado[df_filtrado['Price'] < 0]\n",
        "    df_filtrado = df_filtrado.drop(precios_negativos.index)\n",
        "\n",
        "    precios_negativos = df_filtrado[df_filtrado['Quantity'] < 0]\n",
        "    df_filtrado = df_filtrado.drop(precios_negativos.index)\n",
        "\n",
        "    df_filtrado['Description'] = df_filtrado['Description'].fillna('Unspecified')\n",
        "    df_filtrado['Customer ID'] = df_filtrado['Customer ID'].fillna(0)\n",
        "\n",
        "    #print(f\"- Sin Customer ID: {len(df) - len(df_filtrado) - df_filtrado['Invoice'].astype(str).str.startswith('C').sum()}\")\n",
        "    print(f\"- Cancelaciones: {df_filtrado['Invoice'].astype(str).str.startswith('C').sum()}\")\n",
        "    print(f\"- Precios negativos: {len(precios_negativos)}\")\n",
        "    print(f\"- Cantidades negativas: {len(precios_negativos)}\")\n",
        "    print(f\"Total final: {len(df_filtrado)} registros\")\n",
        "    return df_filtrado"
      ]
    },
    {
      "cell_type": "code",
      "execution_count": null,
      "metadata": {
        "colab": {
          "base_uri": "https://localhost:8080/"
        },
        "id": "3Z6B_WBcLUxm",
        "outputId": "c541b478-8b58-4f2a-ab50-23964c799652"
      },
      "outputs": [
        {
          "output_type": "stream",
          "name": "stdout",
          "text": [
            "- Cancelaciones: 0\n",
            "- Precios negativos: 3393\n",
            "- Cantidades negativas: 3393\n",
            "Total final: 1010532 registros\n"
          ]
        }
      ],
      "source": [
        "df_limpio = filtrar_irrelevantes(df_limpio)"
      ]
    },
    {
      "cell_type": "code",
      "execution_count": null,
      "metadata": {
        "id": "FDBcqOFQK8A5"
      },
      "outputs": [],
      "source": [
        "df_limpio['Invoice'] = df_limpio['Invoice'].astype('string')\n",
        "df_limpio['StockCode'] = df_limpio['StockCode'].astype('string')\n",
        "df_limpio['Country'] = df_limpio['Country'].astype('string')\n",
        "df_limpio['Description'] = df_limpio['Description'].astype('string')\n",
        "df_limpio['InvoiceDate'] = pd.to_datetime(df['InvoiceDate'])"
      ]
    },
    {
      "cell_type": "code",
      "execution_count": null,
      "metadata": {
        "colab": {
          "base_uri": "https://localhost:8080/",
          "height": 458
        },
        "id": "iXicdzMjMrNG",
        "outputId": "f3e90a83-3104-4908-d6c7-5abddb6883a0"
      },
      "outputs": [
        {
          "output_type": "execute_result",
          "data": {
            "text/plain": [
              "0           83.40\n",
              "1           81.00\n",
              "2           81.00\n",
              "3          100.80\n",
              "4           30.00\n",
              "            ...  \n",
              "1067366     12.60\n",
              "1067367     16.60\n",
              "1067368     16.60\n",
              "1067369     14.85\n",
              "1067370     18.00\n",
              "Name: TotalValue, Length: 1010532, dtype: float64"
            ],
            "text/html": [
              "<div>\n",
              "<style scoped>\n",
              "    .dataframe tbody tr th:only-of-type {\n",
              "        vertical-align: middle;\n",
              "    }\n",
              "\n",
              "    .dataframe tbody tr th {\n",
              "        vertical-align: top;\n",
              "    }\n",
              "\n",
              "    .dataframe thead th {\n",
              "        text-align: right;\n",
              "    }\n",
              "</style>\n",
              "<table border=\"1\" class=\"dataframe\">\n",
              "  <thead>\n",
              "    <tr style=\"text-align: right;\">\n",
              "      <th></th>\n",
              "      <th>TotalValue</th>\n",
              "    </tr>\n",
              "  </thead>\n",
              "  <tbody>\n",
              "    <tr>\n",
              "      <th>0</th>\n",
              "      <td>83.40</td>\n",
              "    </tr>\n",
              "    <tr>\n",
              "      <th>1</th>\n",
              "      <td>81.00</td>\n",
              "    </tr>\n",
              "    <tr>\n",
              "      <th>2</th>\n",
              "      <td>81.00</td>\n",
              "    </tr>\n",
              "    <tr>\n",
              "      <th>3</th>\n",
              "      <td>100.80</td>\n",
              "    </tr>\n",
              "    <tr>\n",
              "      <th>4</th>\n",
              "      <td>30.00</td>\n",
              "    </tr>\n",
              "    <tr>\n",
              "      <th>...</th>\n",
              "      <td>...</td>\n",
              "    </tr>\n",
              "    <tr>\n",
              "      <th>1067366</th>\n",
              "      <td>12.60</td>\n",
              "    </tr>\n",
              "    <tr>\n",
              "      <th>1067367</th>\n",
              "      <td>16.60</td>\n",
              "    </tr>\n",
              "    <tr>\n",
              "      <th>1067368</th>\n",
              "      <td>16.60</td>\n",
              "    </tr>\n",
              "    <tr>\n",
              "      <th>1067369</th>\n",
              "      <td>14.85</td>\n",
              "    </tr>\n",
              "    <tr>\n",
              "      <th>1067370</th>\n",
              "      <td>18.00</td>\n",
              "    </tr>\n",
              "  </tbody>\n",
              "</table>\n",
              "<p>1010532 rows × 1 columns</p>\n",
              "</div><br><label><b>dtype:</b> float64</label>"
            ]
          },
          "metadata": {},
          "execution_count": 8
        }
      ],
      "source": [
        "df_limpio['TotalValue'] = df_limpio['Quantity'] * df_limpio['Price']\n",
        "df_limpio['TotalValue']"
      ]
    },
    {
      "cell_type": "markdown",
      "metadata": {
        "id": "pNmOjVOzcPD4"
      },
      "source": [
        "# Parte 3"
      ]
    },
    {
      "cell_type": "code",
      "execution_count": null,
      "metadata": {
        "id": "keQhq6oeLqXq"
      },
      "outputs": [],
      "source": [
        "    df_limpio['year'] = df_limpio['InvoiceDate'].dt.year\n",
        "    df_limpio['month'] = df_limpio['InvoiceDate'].dt.month\n",
        "    df_limpio['day'] = df_limpio['InvoiceDate'].dt.day\n",
        "    df_limpio['day_of_week'] = df_limpio['InvoiceDate'].dt.dayofweek  # 0=Lunes, 6=Domingo\n",
        "    df_limpio['hour'] = df_limpio['InvoiceDate'].dt.hour\n",
        "    df_limpio['YearMonth'] = df_limpio['InvoiceDate'].dt.to_period('M')\n",
        "    df_limpio['Weekday'] = df_limpio['InvoiceDate'].dt.day_name()"
      ]
    },
    {
      "cell_type": "code",
      "execution_count": null,
      "metadata": {
        "id": "OVp0bazIDf4E"
      },
      "outputs": [],
      "source": [
        "def assign_season(month):\n",
        "    if month in [12, 1, 2]:\n",
        "        return 'Winter'\n",
        "    elif month in [3, 4, 5]:\n",
        "        return 'Spring'\n",
        "    elif month in [6, 7, 8]:\n",
        "        return 'Summer'\n",
        "    else:\n",
        "        return 'Autumn'\n",
        "\n",
        "df_limpio['season'] = df_limpio['month'].apply(assign_season)\n"
      ]
    },
    {
      "cell_type": "code",
      "execution_count": null,
      "metadata": {
        "id": "4ecg5EODFdiS"
      },
      "outputs": [],
      "source": [
        "def time_of_day(hour):\n",
        "    if 6 <= hour < 12:\n",
        "        return 'Morning'\n",
        "    elif 12 <= hour < 18:\n",
        "        return 'Afternoon'\n",
        "    elif 18 <= hour < 24:\n",
        "        return 'Evening'\n",
        "    else:\n",
        "        return 'Night'\n",
        "\n",
        "df_limpio['time_of_day'] = df_limpio['hour'].apply(time_of_day)\n"
      ]
    },
    {
      "cell_type": "code",
      "execution_count": null,
      "metadata": {
        "colab": {
          "base_uri": "https://localhost:8080/"
        },
        "id": "05ehOAUOrDW0",
        "outputId": "a035c227-7db5-430d-ca95-36e4c6fba9ff"
      },
      "outputs": [
        {
          "output_type": "execute_result",
          "data": {
            "text/plain": [
              "<StringArray>\n",
              "[      'United Kingdom',               'France',                  'USA',\n",
              "              'Belgium',            'Australia',                 'EIRE',\n",
              "              'Germany',             'Portugal',              'Denmark',\n",
              "          'Netherlands',               'Poland',      'Channel Islands',\n",
              "                'Spain',               'Cyprus',               'Greece',\n",
              "               'Norway',              'Austria',               'Sweden',\n",
              " 'United Arab Emirates',              'Finland',                'Italy',\n",
              "          'Switzerland',                'Japan',          'Unspecified',\n",
              "              'Nigeria',                'Malta',              'Bahrain',\n",
              "                  'RSA',              'Bermuda',            'Hong Kong',\n",
              "            'Singapore',             'Thailand',               'Israel',\n",
              "            'Lithuania',          'West Indies',              'Lebanon',\n",
              "                'Korea',               'Brazil',               'Canada',\n",
              "              'Iceland',         'Saudi Arabia',       'Czech Republic',\n",
              "   'European Community']\n",
              "Length: 43, dtype: string"
            ]
          },
          "metadata": {},
          "execution_count": 12
        }
      ],
      "source": [
        "df_limpio['Country'].unique()"
      ]
    },
    {
      "cell_type": "code",
      "execution_count": null,
      "metadata": {
        "id": "dbFEuo5FrfvQ"
      },
      "outputs": [],
      "source": [
        "europa_oeste = ['United Kingdom', 'France', 'Germany', 'Netherlands', 'Austria', 'Switzerland', 'Belgium', 'Ireland', 'Portugal', 'Spain', 'Italy', 'Sweden', 'Denmark', 'Finland']\n",
        "europa_este = ['Poland', 'Lithuania', 'Czech Republic']\n",
        "asia = ['Japan', 'Hong Kong', 'Singapore', 'Thailand', 'Korea']\n",
        "medio_oriente = ['United Arab Emirates', 'Bahrain', 'Israel', 'Saudi Arabia']\n",
        "africa = ['Nigeria', 'RSA']\n",
        "america = ['USA', 'Canada', 'Brazil', 'Bermuda']\n",
        "otros = ['Cyprus', 'Malta', 'Iceland', 'Channel Islands', 'West Indies', 'Lebanon', 'European Community']\n",
        "sin_especificar = ['Unspecified']\n",
        "\n",
        "def categorizar_pais(pais):\n",
        "    if pais in europa_oeste:\n",
        "        return 'Western Europe'\n",
        "    elif pais in europa_este:\n",
        "        return 'Eastern Europe'\n",
        "    elif pais in asia:\n",
        "        return 'Asia'\n",
        "    elif pais in medio_oriente:\n",
        "        return 'Middle East'\n",
        "    elif pais in africa:\n",
        "        return 'Africa'\n",
        "    elif pais in america:\n",
        "        return 'Americas'\n",
        "    elif pais in sin_especificar:\n",
        "        return 'Unspecified'\n",
        "    else:\n",
        "        return 'Other'\n",
        "\n",
        "df_limpio['Country_cat'] = df_limpio['Country'].apply(categorizar_pais)\n"
      ]
    },
    {
      "cell_type": "code",
      "execution_count": null,
      "metadata": {
        "id": "M5u3n7fzFvU2"
      },
      "outputs": [],
      "source": [
        "top_products = df_limpio['StockCode'].value_counts().nlargest(20).index\n",
        "df_limpio['is_top_product'] = df_limpio['StockCode'].isin(top_products).astype(int)\n",
        "df_limpio['season'] = df_limpio['season'].astype('string')  # Correcto\n",
        "df_limpio['time_of_day'] = df_limpio['time_of_day'].astype('string')  # Correcto"
      ]
    },
    {
      "cell_type": "code",
      "execution_count": null,
      "metadata": {
        "colab": {
          "base_uri": "https://localhost:8080/"
        },
        "id": "Wxw5-Ya1gK4Z",
        "outputId": "7e937ab5-f7d2-4b76-9580-b579dd0fe9b3"
      },
      "outputs": [
        {
          "output_type": "stream",
          "name": "stdout",
          "text": [
            "  Invoice StockCode                          Description  Quantity  \\\n",
            "0  489434     85048  15CM CHRISTMAS GLASS BALL 20 LIGHTS        12   \n",
            "1  489434    79323P                   PINK CHERRY LIGHTS        12   \n",
            "2  489434    79323W                  WHITE CHERRY LIGHTS        12   \n",
            "3  489434     22041         RECORD FRAME 7\" SINGLE SIZE         48   \n",
            "4  489434     21232       STRAWBERRY CERAMIC TRINKET BOX        24   \n",
            "\n",
            "          InvoiceDate  Price  Customer ID         Country  TotalValue  year  \\\n",
            "0 2009-12-01 07:45:00   6.95      13085.0  United Kingdom        83.4  2009   \n",
            "1 2009-12-01 07:45:00   6.75      13085.0  United Kingdom        81.0  2009   \n",
            "2 2009-12-01 07:45:00   6.75      13085.0  United Kingdom        81.0  2009   \n",
            "3 2009-12-01 07:45:00   2.10      13085.0  United Kingdom       100.8  2009   \n",
            "4 2009-12-01 07:45:00   1.25      13085.0  United Kingdom        30.0  2009   \n",
            "\n",
            "   ...  Country_cat_Other  Country_cat_Unspecified  \\\n",
            "0  ...                  0                        0   \n",
            "1  ...                  0                        0   \n",
            "2  ...                  0                        0   \n",
            "3  ...                  0                        0   \n",
            "4  ...                  0                        0   \n",
            "\n",
            "   Country_cat_Western Europe  season_Autumn season_Spring season_Summer  \\\n",
            "0                         1.0              0             0             0   \n",
            "1                         1.0              0             0             0   \n",
            "2                         1.0              0             0             0   \n",
            "3                         1.0              0             0             0   \n",
            "4                         1.0              0             0             0   \n",
            "\n",
            "  season_Winter time_of_day_Afternoon time_of_day_Evening  time_of_day_Morning  \n",
            "0           1.0                     0                   0                  1.0  \n",
            "1           1.0                     0                   0                  1.0  \n",
            "2           1.0                     0                   0                  1.0  \n",
            "3           1.0                     0                   0                  1.0  \n",
            "4           1.0                     0                   0                  1.0  \n",
            "\n",
            "[5 rows x 35 columns]\n"
          ]
        }
      ],
      "source": [
        "df_codificado = df_limpio.copy()\n",
        "\n",
        "columnas_a_codificar = ['Country_cat', 'season', 'time_of_day']\n",
        "\n",
        "# Aplicar OneHotEncoder\n",
        "encoder = OneHotEncoder(sparse_output=True, handle_unknown='ignore')\n",
        "X_encoded = encoder.fit_transform(df_codificado[columnas_a_codificar])\n",
        "\n",
        "nombres_columnas = encoder.get_feature_names_out(columnas_a_codificar)\n",
        "df_encoded = pd.DataFrame.sparse.from_spmatrix(X_encoded, columns=nombres_columnas, index=df_codificado.index)\n",
        "\n",
        "# Concatenar con el DataFrame original\n",
        "df_codificado = pd.concat([df_codificado, df_encoded], axis=1)\n",
        "print(df_codificado.head())"
      ]
    },
    {
      "cell_type": "code",
      "execution_count": null,
      "metadata": {
        "colab": {
          "base_uri": "https://localhost:8080/"
        },
        "id": "vlbsXytqks4N",
        "outputId": "4aadc52c-8b7d-43fc-af02-8e9b32f63ef1"
      },
      "outputs": [
        {
          "output_type": "stream",
          "name": "stdout",
          "text": [
            "<class 'pandas.core.frame.DataFrame'>\n",
            "Index: 1010532 entries, 0 to 1067370\n",
            "Data columns (total 35 columns):\n",
            " #   Column                      Non-Null Count    Dtype             \n",
            "---  ------                      --------------    -----             \n",
            " 0   Invoice                     1010532 non-null  string            \n",
            " 1   StockCode                   1010532 non-null  string            \n",
            " 2   Description                 1010532 non-null  string            \n",
            " 3   Quantity                    1010532 non-null  int64             \n",
            " 4   InvoiceDate                 1010532 non-null  datetime64[ns]    \n",
            " 5   Price                       1010532 non-null  float64           \n",
            " 6   Customer ID                 1010532 non-null  float64           \n",
            " 7   Country                     1010532 non-null  string            \n",
            " 8   TotalValue                  1010532 non-null  float64           \n",
            " 9   year                        1010532 non-null  int32             \n",
            " 10  month                       1010532 non-null  int32             \n",
            " 11  day                         1010532 non-null  int32             \n",
            " 12  day_of_week                 1010532 non-null  int32             \n",
            " 13  hour                        1010532 non-null  int32             \n",
            " 14  YearMonth                   1010532 non-null  period[M]         \n",
            " 15  Weekday                     1010532 non-null  object            \n",
            " 16  season                      1010532 non-null  string            \n",
            " 17  time_of_day                 1010532 non-null  string            \n",
            " 18  Country_cat                 1010532 non-null  object            \n",
            " 19  is_top_product              1010532 non-null  int64             \n",
            " 20  Country_cat_Africa          1 non-null        Sparse[float64, 0]\n",
            " 21  Country_cat_Americas        1 non-null        Sparse[float64, 0]\n",
            " 22  Country_cat_Asia            1 non-null        Sparse[float64, 0]\n",
            " 23  Country_cat_Eastern Europe  1 non-null        Sparse[float64, 0]\n",
            " 24  Country_cat_Middle East     1 non-null        Sparse[float64, 0]\n",
            " 25  Country_cat_Other           1 non-null        Sparse[float64, 0]\n",
            " 26  Country_cat_Unspecified     1 non-null        Sparse[float64, 0]\n",
            " 27  Country_cat_Western Europe  1 non-null        Sparse[float64, 0]\n",
            " 28  season_Autumn               1 non-null        Sparse[float64, 0]\n",
            " 29  season_Spring               1 non-null        Sparse[float64, 0]\n",
            " 30  season_Summer               1 non-null        Sparse[float64, 0]\n",
            " 31  season_Winter               1 non-null        Sparse[float64, 0]\n",
            " 32  time_of_day_Afternoon       1 non-null        Sparse[float64, 0]\n",
            " 33  time_of_day_Evening         1 non-null        Sparse[float64, 0]\n",
            " 34  time_of_day_Morning         1 non-null        Sparse[float64, 0]\n",
            "dtypes: Sparse[float64, 0](15), datetime64[ns](1), float64(3), int32(5), int64(2), object(2), period[M](1), string(6)\n",
            "memory usage: 177.3+ MB\n"
          ]
        },
        {
          "output_type": "stream",
          "name": "stderr",
          "text": [
            "<ipython-input-18-be1a90608350>:1: FutureWarning: Allowing arbitrary scalar fill_value in SparseDtype is deprecated. In a future version, the fill_value must be a valid value for the SparseDtype.subtype.\n",
            "  df_codificado.info()\n"
          ]
        }
      ],
      "source": [
        "df_codificado.info()"
      ]
    },
    {
      "cell_type": "markdown",
      "source": [
        "El RandomForestRegressor es un algoritmo de aprendizaje supervisado diseñado para problemas de regresión, es decir, para predecir valores numéricos"
      ],
      "metadata": {
        "id": "MSVV6uJ0NpBT"
      }
    },
    {
      "cell_type": "code",
      "execution_count": null,
      "metadata": {
        "colab": {
          "base_uri": "https://localhost:8080/"
        },
        "id": "gRqy-yT7wXIw",
        "outputId": "655eeef3-3a35-44ac-df23-9005d083d649"
      },
      "outputs": [
        {
          "output_type": "stream",
          "name": "stderr",
          "text": [
            "/usr/local/lib/python3.11/dist-packages/sklearn/utils/validation.py:921: UserWarning: pandas.DataFrame with sparse columns found.It will be converted to a dense numpy array.\n",
            "  warnings.warn(\n",
            "[Parallel(n_jobs=-1)]: Using backend ThreadingBackend with 2 concurrent workers.\n",
            "[Parallel(n_jobs=-1)]: Done  46 tasks      | elapsed:   35.7s\n",
            "[Parallel(n_jobs=-1)]: Done 100 out of 100 | elapsed:  1.1min finished\n",
            "/usr/local/lib/python3.11/dist-packages/sklearn/utils/validation.py:921: UserWarning: pandas.DataFrame with sparse columns found.It will be converted to a dense numpy array.\n",
            "  warnings.warn(\n",
            "[Parallel(n_jobs=2)]: Using backend ThreadingBackend with 2 concurrent workers.\n",
            "[Parallel(n_jobs=2)]: Done  46 tasks      | elapsed:    0.5s\n"
          ]
        },
        {
          "output_type": "stream",
          "name": "stdout",
          "text": [
            "\n",
            "==================================================\n",
            "🚀 RMSE: 40.74\n",
            "📊 R² Score: 0.695\n",
            "==================================================\n",
            "\n",
            "🔍 Importancia de características:\n",
            "                   Feature   Importance\n",
            "                  Quantity 7.514133e-01\n",
            "                     Price 2.311772e-01\n",
            "                     month 4.620618e-03\n",
            "             season_Summer 3.244788e-03\n",
            "                      year 2.172356e-03\n",
            "     time_of_day_Afternoon 1.939311e-03\n",
            "             season_Autumn 1.418612e-03\n",
            "             season_Winter 1.065421e-03\n",
            "       time_of_day_Morning 7.883532e-04\n",
            "             season_Spring 7.637109e-04\n",
            "Country_cat_Western Europe 6.496081e-04\n",
            "         Country_cat_Other 3.476551e-04\n",
            "          Country_cat_Asia 1.908993e-04\n",
            "       time_of_day_Evening 1.894751e-04\n",
            "   Country_cat_Unspecified 6.583556e-06\n",
            "   Country_cat_Middle East 5.217794e-06\n",
            "      Country_cat_Americas 4.264106e-06\n",
            "Country_cat_Eastern Europe 2.078758e-06\n",
            "        Country_cat_Africa 5.442174e-07\n"
          ]
        },
        {
          "output_type": "stream",
          "name": "stderr",
          "text": [
            "[Parallel(n_jobs=2)]: Done 100 out of 100 | elapsed:    1.0s finished\n"
          ]
        }
      ],
      "source": [
        "# Importaciones necesarias\n",
        "from sklearn.model_selection import train_test_split\n",
        "from sklearn.ensemble import RandomForestRegressor\n",
        "from sklearn.metrics import mean_squared_error, r2_score\n",
        "import numpy as np\n",
        "import pandas as pd\n",
        "\n",
        "#Definir variables\n",
        "y = df_codificado['TotalValue']\n",
        "X = df_codificado.drop(columns=['StockCode', 'InvoiceDate', 'Invoice', 'Country_cat', 'Country',\n",
        "                              'Description', 'YearMonth', 'Weekday', 'TotalValue', 'season',\n",
        "                              'time_of_day', 'day_of_week', 'Customer ID', 'day', 'hour',\n",
        "                              'is_top_product'])\n",
        "\n",
        "#Preprocesamiento (transformación logarítmica)\n",
        "X['Quantity'] = np.log1p(X['Quantity'])\n",
        "X['Price'] = np.log1p(X['Price'])\n",
        "\n",
        "#División de datos\n",
        "X_train, X_test, y_train, y_test = train_test_split(X, y, test_size=0.2, random_state=42)\n",
        "\n",
        "#Modelo\n",
        "model = RandomForestRegressor(\n",
        "    n_estimators=100,      # Número de árboles en el bosque\n",
        "    max_depth=10,          # Profundidad máxima de cada árbol\n",
        "    min_samples_split=5,   # Mínimo número de muestras para dividir un nodo\n",
        "    min_samples_leaf=2,    # Mínimo número de muestras en hojas\n",
        "    max_features='sqrt',   # Número de features a considerar\n",
        "    random_state=42,       # Semilla para reproducibilidad\n",
        "    n_jobs=-1,             # Usa todos los núcleos del CPU\n",
        "    verbose=1              # Muestra progreso durante el entrenamiento\n",
        ")\n",
        "\n",
        "model.fit(X_train, y_train)\n",
        "\n",
        "# 5. Evaluar el modelo\n",
        "y_pred = model.predict(X_test)\n",
        "rmse = np.sqrt(mean_squared_error(y_test, y_pred))\n",
        "r2 = r2_score(y_test, y_pred)\n",
        "\n",
        "print(\"\\n\" + \"=\"*50)\n",
        "print(f\"🚀 RMSE: {rmse:.2f}\")\n",
        "print(f\"📊 R² Score: {r2:.3f}\")\n",
        "print(\"=\"*50 + \"\\n\")\n",
        "importances = model.feature_importances_\n",
        "feature_importance_df = pd.DataFrame({\n",
        "    'Feature': X.columns,\n",
        "    'Importance': importances\n",
        "}).sort_values('Importance', ascending=False)\n",
        "\n",
        "print(\"🔍 Importancia de características:\")\n",
        "print(feature_importance_df.to_string(index=False))"
      ]
    },
    {
      "cell_type": "markdown",
      "source": [
        "* El error cuadrático medio es de 40.74 unidades en las predicciones.Por ejemplo, al predecir en valor total el error promedio sería de 40.74 libras esterlinas.\n",
        "* El modelo explica 69.5% de la variabilidad de los datos esto sugiere que hay un 30.5% de variabilidad no capturada (quizás por variables no incluidas).\n",
        "* Quantity y Price son las variables que dan más información.\n"
      ],
      "metadata": {
        "id": "CIt1Bg4HSvF_"
      }
    }
  ],
  "metadata": {
    "colab": {
      "provenance": [],
      "toc_visible": true
    },
    "kernelspec": {
      "display_name": "Python 3",
      "name": "python3"
    },
    "language_info": {
      "name": "python"
    }
  },
  "nbformat": 4,
  "nbformat_minor": 0
}